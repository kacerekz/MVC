{
 "cells": [
  {
   "cell_type": "code",
   "execution_count": null,
   "id": "afdc5045",
   "metadata": {},
   "outputs": [],
   "source": [
    "import numpy as np\n",
    "import cv2\n",
    "import matplotlib.pyplot as plt\n",
    "\n",
    "# Define the original cage (as a list of 2D points)\n",
    "cage = np.array([\n",
    "    [100, 100],\n",
    "    [300, 100],\n",
    "    [300, 300],\n",
    "    [100, 300]\n",
    "], dtype=np.float32)\n",
    "\n",
    "# Move the cage to create deformation\n",
    "deformed_cage = np.array([\n",
    "    [80, 120],\n",
    "    [320, 80],\n",
    "    [280, 320],\n",
    "    [120, 280]\n",
    "], dtype=np.float32)\n"
   ]
  },
  {
   "cell_type": "code",
   "execution_count": null,
   "id": "45e36bd1",
   "metadata": {},
   "outputs": [],
   "source": [
    "def compute_mvc(p, cage):\n",
    "    n = len(cage)\n",
    "    w = np.zeros(n)\n",
    "    eps = 1e-10\n",
    "\n",
    "    for i in range(n):\n",
    "        vi = cage[i] - p\n",
    "        vip1 = cage[(i + 1) % n] - p\n",
    "\n",
    "        len_vi = np.linalg.norm(vi)\n",
    "        len_vip1 = np.linalg.norm(vip1)\n",
    "\n",
    "        if len_vi < eps or len_vip1 < eps:\n",
    "            # p is on a cage vertex\n",
    "            w[i] = 1\n",
    "            return w\n",
    "\n",
    "        theta = np.arccos(\n",
    "            np.clip(np.dot(vi, vip1) / (len_vi * len_vip1), -1.0, 1.0)\n",
    "        )\n",
    "        tan_half_theta = np.tan(theta / 2.0)\n",
    "        w[i] += (tan_half_theta / len_vi)\n",
    "        w[(i + 1) % n] += (tan_half_theta / len_vip1)\n",
    "\n",
    "    w_sum = np.sum(w)\n",
    "    return w / w_sum\n",
    "\n",
    "def warp_image(image, cage, deformed_cage):\n",
    "    h, w = image.shape[:2]\n",
    "    warped_image = np.zeros_like(image)\n",
    "    \n",
    "    for y in range(h):\n",
    "        for x in range(w):\n",
    "            p = np.array([x, y], dtype=np.float32)\n",
    "            if cv2.pointPolygonTest(cage, (x, y), measureDist=False) >= 0:\n",
    "                weights = compute_mvc(p, cage)\n",
    "                new_p = np.sum(weights[:, None] * deformed_cage, axis=0)\n",
    "                new_x, new_y = new_p.astype(int)\n",
    "                if 0 <= new_x < w and 0 <= new_y < h:\n",
    "                    warped_image[y, x] = image[new_y, new_x]\n",
    "    return warped_image\n"
   ]
  },
  {
   "cell_type": "code",
   "execution_count": null,
   "id": "13766a74",
   "metadata": {},
   "outputs": [],
   "source": [
    "import cv2\n",
    "import numpy as np\n",
    "\n",
    "def generate_test_image(width=400, height=400):\n",
    "    # Create a blank white RGB image\n",
    "    image = np.ones((height, width, 3), dtype=np.uint8) * 255\n",
    "\n",
    "    # Draw a filled blue rectangle\n",
    "    cv2.rectangle(image, (100, 100), (300, 300), (255, 0, 0), -1)\n",
    "\n",
    "    # Add some text\n",
    "    cv2.putText(image, 'MVC', (140, 220), cv2.FONT_HERSHEY_SIMPLEX, 2, (255, 255, 255), 3)\n",
    "\n",
    "    return image\n"
   ]
  },
  {
   "cell_type": "code",
   "execution_count": null,
   "id": "3736fcaf",
   "metadata": {},
   "outputs": [],
   "source": [
    "image = generate_test_image()\n",
    "image = cv2.cvtColor(image, cv2.COLOR_BGR2RGB)\n",
    "\n",
    "warped = warp_image(image, cage, deformed_cage)\n",
    "\n",
    "plt.subplot(1, 2, 1)\n",
    "plt.imshow(image)\n",
    "plt.title(\"Original\")\n",
    "\n",
    "plt.subplot(1, 2, 2)\n",
    "plt.imshow(warped)\n",
    "plt.title(\"Deformed\")\n",
    "plt.show()"
   ]
  }
 ],
 "metadata": {
  "kernelspec": {
   "display_name": "venv",
   "language": "python",
   "name": "python3"
  },
  "language_info": {
   "codemirror_mode": {
    "name": "ipython",
    "version": 3
   },
   "file_extension": ".py",
   "mimetype": "text/x-python",
   "name": "python",
   "nbconvert_exporter": "python",
   "pygments_lexer": "ipython3",
   "version": "3.10.9"
  }
 },
 "nbformat": 4,
 "nbformat_minor": 5
}
